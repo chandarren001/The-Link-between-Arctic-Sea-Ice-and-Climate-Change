{
 "cells": [
  {
   "cell_type": "code",
   "execution_count": 1,
   "metadata": {},
   "outputs": [],
   "source": [
    "# Mass balance calculation code\n",
    "\n",
    "import iris\n",
    "import numpy as np\n",
    "import netCDF4 as nc\n",
    "import xarray as xr"
   ]
  },
  {
   "cell_type": "code",
   "execution_count": 2,
   "metadata": {},
   "outputs": [],
   "source": [
    "# Lad files of prsn and prrf for snowfall and rainfall estimations\n",
    "\n",
    "file1 = r'C:\\Users\\Asus\\Desktop\\Masters Project\\Data\\SMB Estimate\\prsn_Greenland_Coordinates.nc'\n",
    "ds1 = xr.open_dataset(file1, decode_times=True, use_cftime=True)\n",
    "\n",
    "file2 = r'C:\\Users\\Asus\\Desktop\\Masters Project\\Data\\SMB Estimate\\prrf_Greenland_Coordinates.nc'\n",
    "ds2 = xr.open_dataset(file2, decode_times=True, use_cftime=True)"
   ]
  },
  {
   "cell_type": "code",
   "execution_count": 3,
   "metadata": {},
   "outputs": [
    {
     "name": "stdout",
     "output_type": "stream",
     "text": [
      "<xarray.DataArray 'prsn' (time: 132, lat: 26, lon: 51)>\n",
      "[175032 values with dtype=float32]\n",
      "Coordinates:\n",
      "  * time     (time) object 2090-01-16 12:00:00 ... 2100-12-16 12:00:00\n",
      "  * lat      (lat) float64 60.0 61.0 62.0 63.0 64.0 ... 81.0 82.0 83.0 84.0 85.0\n",
      "  * lon      (lon) float64 290.0 291.0 292.0 293.0 ... 337.0 338.0 339.0 340.0\n",
      "    model    |S142 ...\n",
      "Attributes:\n",
      "    units:         mm day-1\n",
      "    cell_methods:  Model: mean\n",
      "<xarray.DataArray 'unknown' (time: 132, lat: 26, lon: 51)>\n",
      "[175032 values with dtype=float32]\n",
      "Coordinates:\n",
      "  * time     (time) object 2090-01-16 12:00:00 ... 2100-12-16 12:00:00\n",
      "  * lat      (lat) float64 60.0 61.0 62.0 63.0 64.0 ... 81.0 82.0 83.0 84.0 85.0\n",
      "  * lon      (lon) float64 290.0 291.0 292.0 293.0 ... 337.0 338.0 339.0 340.0\n",
      "Attributes:\n",
      "    units:    mm day-1\n",
      "<xarray.DataArray 'prsn' (time: 132, lat: 26, lon: 51)>\n",
      "[175032 values with dtype=float32]\n",
      "Coordinates:\n",
      "  * time     (time) object 2000-01-16 12:00:00 ... 2010-12-16 12:00:00\n",
      "  * lat      (lat) float64 60.0 61.0 62.0 63.0 64.0 ... 81.0 82.0 83.0 84.0 85.0\n",
      "  * lon      (lon) float64 290.0 291.0 292.0 293.0 ... 337.0 338.0 339.0 340.0\n",
      "    model    |S142 ...\n",
      "Attributes:\n",
      "    units:         mm day-1\n",
      "    cell_methods:  Model: mean\n",
      "<xarray.DataArray 'unknown' (time: 132, lat: 26, lon: 51)>\n",
      "[175032 values with dtype=float32]\n",
      "Coordinates:\n",
      "  * time     (time) object 2000-01-16 12:00:00 ... 2010-12-16 12:00:00\n",
      "  * lat      (lat) float64 60.0 61.0 62.0 63.0 64.0 ... 81.0 82.0 83.0 84.0 85.0\n",
      "  * lon      (lon) float64 290.0 291.0 292.0 293.0 ... 337.0 338.0 339.0 340.0\n",
      "Attributes:\n",
      "    units:    mm day-1\n"
     ]
    }
   ],
   "source": [
    "# Get end decade and start decade prsn and prrf\n",
    "\n",
    "End_Decade_ds1 = ds1['prsn'][1680:1812]\n",
    "print(End_Decade_ds1)\n",
    "\n",
    "End_Decade_ds2 = ds2['unknown'][1680:1812]\n",
    "print(End_Decade_ds2)\n",
    "\n",
    "Start_Decade_ds1 = ds1['prsn'][600:732]\n",
    "print(Start_Decade_ds1)\n",
    "\n",
    "Start_Decade_ds2 = ds2['unknown'][600:732]\n",
    "print(Start_Decade_ds2)"
   ]
  },
  {
   "cell_type": "code",
   "execution_count": 4,
   "metadata": {},
   "outputs": [],
   "source": [
    "import math"
   ]
  },
  {
   "cell_type": "code",
   "execution_count": 5,
   "metadata": {},
   "outputs": [
    {
     "name": "stdout",
     "output_type": "stream",
     "text": [
      "1809270\n"
     ]
    }
   ],
   "source": [
    "# Greenland ice area from Mouginot et al. (2019)\n",
    "Greenland_ice_area = 216207+236648+283654+263534+425250+218628+165349\n",
    "print(Greenland_ice_area)"
   ]
  },
  {
   "cell_type": "code",
   "execution_count": 6,
   "metadata": {},
   "outputs": [
    {
     "name": "stdout",
     "output_type": "stream",
     "text": [
      "<xarray.DataArray 'prsn' ()>\n",
      "array(-32.53868818)\n",
      "Coordinates:\n",
      "    model    |S142 b'ACCESS-CM2|ACCESS-ESM1-5|EC-Earth3|EC-Earth3-Veg|CNRM-ESM2-1|CanESM5|HadGEM3-GC31-LL|HadGEM3-GC31-MM|IPSL-CM6A-LR|MIROC6|MRI-ESM2-0|NorESM2-LM'\n",
      "<xarray.DataArray 'unknown' ()>\n",
      "array(199.72642064)\n"
     ]
    }
   ],
   "source": [
    "# Decade average mean prsn and prrf\n",
    "mean_test = xr.DataArray.mean(End_Decade_ds1)\n",
    "mean_test2 = xr.DataArray.mean(Start_Decade_ds1)\n",
    "prsn_anomaly_mean = (mean_test-mean_test2)*365\n",
    "print(prsn_anomaly_mean)\n",
    "mean_prrf1 = xr.DataArray.mean(End_Decade_ds2)\n",
    "mean_prrf2 = xr.DataArray.mean(Start_Decade_ds2)\n",
    "prrf_anomaly_mean = (mean_prrf1 - mean_prrf2)*365\n",
    "print(prrf_anomaly_mean)"
   ]
  },
  {
   "cell_type": "code",
   "execution_count": 7,
   "metadata": {},
   "outputs": [
    {
     "name": "stdout",
     "output_type": "stream",
     "text": [
      "<xarray.DataArray 'prsn' ()>\n",
      "array(-58.87127237)\n",
      "Coordinates:\n",
      "    model    |S142 b'ACCESS-CM2|ACCESS-ESM1-5|EC-Earth3|EC-Earth3-Veg|CNRM-ESM2-1|CanESM5|HadGEM3-GC31-LL|HadGEM3-GC31-MM|IPSL-CM6A-LR|MIROC6|MRI-ESM2-0|NorESM2-LM'\n"
     ]
    }
   ],
   "source": [
    "# SMB prsn estimate\n",
    "SMB_prsn = ((prsn_anomaly_mean*(10**(-6))) * Greenland_ice_area)\n",
    "\n",
    "print(SMB_prsn)"
   ]
  },
  {
   "cell_type": "code",
   "execution_count": 8,
   "metadata": {},
   "outputs": [
    {
     "name": "stdout",
     "output_type": "stream",
     "text": [
      "<xarray.DataArray 'unknown' ()>\n",
      "array(361.35902107)\n"
     ]
    }
   ],
   "source": [
    "# SMB prrf esimate\n",
    "SMB_prrf = ((prrf_anomaly_mean*(10**(-6))) * Greenland_ice_area)\n",
    "\n",
    "print(SMB_prrf)"
   ]
  },
  {
   "cell_type": "code",
   "execution_count": 9,
   "metadata": {},
   "outputs": [],
   "source": [
    "from numpy import loadtxt\n",
    "# Load PDD file\n",
    "\n",
    "ds_combined = loadtxt(r'C:\\Users\\Asus\\Desktop\\Masters Project\\Data\\PDD\\PDD_combined.csv')\n"
   ]
  },
  {
   "cell_type": "code",
   "execution_count": 10,
   "metadata": {},
   "outputs": [
    {
     "name": "stdout",
     "output_type": "stream",
     "text": [
      "[ 330.67915769  351.24669943  344.49185782  330.69509597  341.30766203\n",
      "  349.57834059  379.67522811  360.28444631  370.5949008   352.12326358\n",
      "  374.32233995  365.24411865  389.77126105  382.33355688  393.77649364\n",
      "  389.15876439  381.1798619   391.75105072  389.38402269  381.16085791\n",
      "  390.71549762  414.36863136  410.05144094  423.83488374  412.38312733\n",
      "  402.34251152  410.19388661  425.76993071  426.76852712  419.68627856\n",
      "  428.92468529  442.30270141  429.1867617   427.86290945  442.60800944\n",
      "  409.36590802  435.9606415   448.42592011  439.20118049  425.44577746\n",
      "  423.18466178  443.50415842  456.81286457  462.37854025  476.09290534\n",
      "  488.06766813  486.80718047  497.74064053  491.87811094  488.06445839\n",
      "  501.94193442  484.03732123  508.83596626  524.57217378  528.89575017\n",
      "  516.5069707   552.76884168  546.08438951  543.86439468  557.61667897\n",
      "  584.20155222  572.2094622   552.7020104   586.08887839  560.05913211\n",
      "  544.53573461  562.62500748  586.22092883  589.99543852  615.7015344\n",
      "  613.43500595  648.44656959  632.71048181  630.25636298  632.45733103\n",
      "  687.81140752  671.40525577  700.93175907  711.05101461  727.06553626\n",
      "  735.64017216  778.90615633  771.2531559   736.94406417  772.03386807\n",
      "  794.33578351  802.66911232  840.33360172  861.77414478  857.2495023\n",
      "  867.55081515  919.65765448  910.91886077  894.24646343  927.27027328\n",
      "  946.02268113  935.25351219  969.52225175  991.5397656  1023.38312936\n",
      " 1020.13412395]\n"
     ]
    }
   ],
   "source": [
    "print(ds_combined)"
   ]
  },
  {
   "cell_type": "code",
   "execution_count": 11,
   "metadata": {},
   "outputs": [],
   "source": [
    "# Start and end decades of PDD sum\n",
    "\n",
    "ds_new_end = ds_combined[90:101]\n",
    "ds_new_start = ds_combined[0:11]"
   ]
  },
  {
   "cell_type": "code",
   "execution_count": 12,
   "metadata": {},
   "outputs": [],
   "source": [
    "ds_anomaly = ds_new_end.mean() - ds_new_start.mean()"
   ]
  },
  {
   "cell_type": "code",
   "execution_count": 13,
   "metadata": {},
   "outputs": [
    {
     "name": "stdout",
     "output_type": "stream",
     "text": [
      "592.7727762550309\n"
     ]
    }
   ],
   "source": [
    "print(ds_anomaly)"
   ]
  },
  {
   "cell_type": "code",
   "execution_count": 14,
   "metadata": {},
   "outputs": [
    {
     "name": "stdout",
     "output_type": "stream",
     "text": [
      "1778.3183287650927\n"
     ]
    }
   ],
   "source": [
    "# Use 3 mm / C yr\n",
    "\n",
    "surface_melt = ds_anomaly * (3) \n",
    "print(surface_melt)"
   ]
  },
  {
   "cell_type": "code",
   "execution_count": 16,
   "metadata": {},
   "outputs": [
    {
     "name": "stdout",
     "output_type": "stream",
     "text": [
      "3217.4580026848193\n"
     ]
    }
   ],
   "source": [
    "# Surface melt SMB\n",
    "\n",
    "SMB_PDD1 = ((surface_melt*(10**(-6))) * Greenland_ice_area)\n",
    "print(SMB_PDD1)"
   ]
  }
 ],
 "metadata": {
  "kernelspec": {
   "display_name": "Python 3",
   "language": "python",
   "name": "python3"
  },
  "language_info": {
   "codemirror_mode": {
    "name": "ipython",
    "version": 3
   },
   "file_extension": ".py",
   "mimetype": "text/x-python",
   "name": "python",
   "nbconvert_exporter": "python",
   "pygments_lexer": "ipython3",
   "version": "3.7.4"
  }
 },
 "nbformat": 4,
 "nbformat_minor": 2
}
