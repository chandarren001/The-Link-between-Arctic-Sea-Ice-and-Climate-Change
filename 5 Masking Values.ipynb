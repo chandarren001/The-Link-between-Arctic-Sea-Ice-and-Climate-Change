{
 "cells": [
  {
   "cell_type": "code",
   "execution_count": 8,
   "metadata": {},
   "outputs": [],
   "source": [
    "# This code is to replace -999 values in netcdf file with 0\n",
    "import xarray as xr\n",
    "import netCDF4"
   ]
  },
  {
   "cell_type": "code",
   "execution_count": 19,
   "metadata": {},
   "outputs": [],
   "source": [
    "# Load data file\n",
    "ds = xr.open_dataset(r'C:\\Users\\Asus\\Desktop\\Masters Project\\Data\\ta_850_22_feb\\ta_annual_model_mean.nc')"
   ]
  },
  {
   "cell_type": "code",
   "execution_count": 20,
   "metadata": {},
   "outputs": [],
   "source": [
    "# For all values below zero, replace with 0\n",
    "# This is done as the trend for ta over the arctic is increasing, any values should not be below 0\n",
    "# Data trend checked with files that have values for missing values in others\n",
    "\n",
    "ds['ta']=xr.where((ds['ta']<0),0,ds['ta'])"
   ]
  },
  {
   "cell_type": "code",
   "execution_count": 21,
   "metadata": {},
   "outputs": [],
   "source": [
    "ds.to_netcdf(r'C:\\Users\\Asus\\Desktop\\Masters Project\\Data\\ta_850_22_feb\\ta_annual_model_mean_test1.nc')"
   ]
  },
  {
   "cell_type": "code",
   "execution_count": null,
   "metadata": {},
   "outputs": [],
   "source": []
  }
 ],
 "metadata": {
  "kernelspec": {
   "display_name": "Python 3",
   "language": "python",
   "name": "python3"
  },
  "language_info": {
   "codemirror_mode": {
    "name": "ipython",
    "version": 3
   },
   "file_extension": ".py",
   "mimetype": "text/x-python",
   "name": "python",
   "nbconvert_exporter": "python",
   "pygments_lexer": "ipython3",
   "version": "3.7.4"
  }
 },
 "nbformat": 4,
 "nbformat_minor": 2
}
