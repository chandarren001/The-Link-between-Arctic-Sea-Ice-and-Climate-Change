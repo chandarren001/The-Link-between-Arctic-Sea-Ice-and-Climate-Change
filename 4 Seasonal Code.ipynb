{
 "cells": [
  {
   "cell_type": "code",
   "execution_count": 1,
   "metadata": {},
   "outputs": [],
   "source": [
    "import numpy as np\n",
    "import xarray as xr\n"
   ]
  },
  {
   "cell_type": "code",
   "execution_count": 2,
   "metadata": {},
   "outputs": [],
   "source": [
    "# Open merged and concatenated file\n",
    "\n",
    "file = #path to file\n",
    "ds = xr.open_dataset(file)"
   ]
  },
  {
   "cell_type": "code",
   "execution_count": 3,
   "metadata": {},
   "outputs": [
    {
     "name": "stdout",
     "output_type": "stream",
     "text": [
      "<xarray.DataArray 'ta' (time: 132, lat: 31, lon: 360)>\n",
      "[1473120 values with dtype=float32]\n",
      "Coordinates:\n",
      "  * time     (time) datetime64[ns] 2090-01-16T12:00:00 ... 2100-12-16T12:00:00\n",
      "  * lat      (lat) float64 60.0 61.0 62.0 63.0 64.0 ... 86.0 87.0 88.0 89.0 90.0\n",
      "  * lon      (lon) float64 0.0 1.0 2.0 3.0 4.0 ... 355.0 356.0 357.0 358.0 359.0\n",
      "    plev     float64 ...\n",
      "Attributes:\n",
      "    standard_name:  air_temperature\n",
      "    long_name:      Air Temperature\n",
      "    units:          K\n",
      "    cell_methods:   time: mean\n"
     ]
    }
   ],
   "source": [
    "#Get end century values 2090-2100\n",
    "\n",
    "End_Decade = ds2['ta'][900:1032]\n",
    "print(End_Decade)"
   ]
  },
  {
   "cell_type": "code",
   "execution_count": 4,
   "metadata": {},
   "outputs": [],
   "source": [
    "#Groupby seasonal data. This will take the mean per decade of the seasonal data.\n",
    "ds_season_end = End_Decade.groupby('time.season').mean('time')\n"
   ]
  },
  {
   "cell_type": "code",
   "execution_count": 5,
   "metadata": {},
   "outputs": [],
   "source": [
    "#Extract each season and save into a variable\n",
    "\n",
    "DJF_test_end = ds_season_end[0]\n",
    "JJA_test_end = ds_season_end[1]\n",
    "MAM_test_end = ds_season_end[2]\n",
    "SON_test_end = ds_season_end[3]\n"
   ]
  },
  {
   "cell_type": "code",
   "execution_count": 7,
   "metadata": {},
   "outputs": [
    {
     "name": "stdout",
     "output_type": "stream",
     "text": [
      "<xarray.DataArray 'ta' (time: 132, lat: 31, lon: 360)>\n",
      "[1473120 values with dtype=float32]\n",
      "Coordinates:\n",
      "  * time     (time) datetime64[ns] 2000-01-16T12:00:00 ... 2010-12-16T12:00:00\n",
      "  * lat      (lat) float64 60.0 61.0 62.0 63.0 64.0 ... 86.0 87.0 88.0 89.0 90.0\n",
      "  * lon      (lon) float64 0.0 1.0 2.0 3.0 4.0 ... 355.0 356.0 357.0 358.0 359.0\n",
      "    plev     float64 ...\n",
      "Attributes:\n",
      "    standard_name:  air_temperature\n",
      "    long_name:      Air Temperature\n",
      "    units:          K\n",
      "    cell_methods:   time: mean\n"
     ]
    }
   ],
   "source": [
    "#Get start ventury values 2000-2010\n",
    "Start_Decade = ds['ta'][600:732]\n",
    "print(Start_Decade)"
   ]
  },
  {
   "cell_type": "code",
   "execution_count": 8,
   "metadata": {},
   "outputs": [],
   "source": [
    "#Group by season for start of decade\n",
    "ds_season_start = Start_Decade.groupby('time.season').mean('time')"
   ]
  },
  {
   "cell_type": "code",
   "execution_count": 9,
   "metadata": {},
   "outputs": [],
   "source": [
    "#Extract each season and save into a variable\n",
    "\n",
    "DJF_test_start = ds_season_start[0]\n",
    "JJA_test_start = ds_season_start[1]\n",
    "MAM_test_start = ds_season_start[2]\n",
    "SON_test_start = ds_season_start[3]\n"
   ]
  },
  {
   "cell_type": "code",
   "execution_count": 10,
   "metadata": {},
   "outputs": [],
   "source": [
    "#Get the seasonal anomaly for the model\n",
    "\n",
    "Anomaly_DJF = DJF_test_end - DJF_test_start \n",
    "Anomaly_JJA = JJA_test_end - JJA_test_start \n",
    "Anomaly_MAM = MAM_test_end - MAM_test_start \n",
    "Anomaly_SON = SON_test_end - SON_test_start "
   ]
  },
  {
   "cell_type": "code",
   "execution_count": 11,
   "metadata": {},
   "outputs": [],
   "source": [
    "#Save files into seasonal change files\n",
    "Anomaly_DJF.to_netcdf(path to new file)\n",
    "Anomaly_JJA.to_netcdf(path to new file)\n",
    "Anomaly_MAM.to_netcdf(path to new file)\n",
    "Anomaly_SON.to_netcdf(path to new file)\n",
    "\n"
   ]
  },
  {
   "cell_type": "code",
   "execution_count": null,
   "metadata": {},
   "outputs": [],
   "source": [
    "#Save end century values\n",
    "\n",
    "DJF_test_end.to_netcdf(path to new file)\n",
    "JJA_test_end.to_netcdf(path to new file)\n",
    "MAM_test_end.to_netcdf(path to new file)\n",
    "SON_test_end.to_netcdf(path to new file)"
   ]
  }
 ],
 "metadata": {
  "kernelspec": {
   "display_name": "Python 3",
   "language": "python",
   "name": "python3"
  },
  "language_info": {
   "codemirror_mode": {
    "name": "ipython",
    "version": 3
   },
   "file_extension": ".py",
   "mimetype": "text/x-python",
   "name": "python",
   "nbconvert_exporter": "python",
   "pygments_lexer": "ipython3",
   "version": "3.7.4"
  }
 },
 "nbformat": 4,
 "nbformat_minor": 2
}
