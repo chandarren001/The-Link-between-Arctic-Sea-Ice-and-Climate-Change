{
 "cells": [
  {
   "cell_type": "code",
   "execution_count": 79,
   "metadata": {},
   "outputs": [],
   "source": [
    "#Regrid code and concatenation for historical and ssp data for tas\n",
    "\n",
    "import iris\n",
    "import numpy as np\n",
    "from iris.experimental.equalise_cubes import equalise_attributes"
   ]
  },
  {
   "cell_type": "code",
   "execution_count": 80,
   "metadata": {},
   "outputs": [],
   "source": [
    "sample_points = [('longitude', np.linspace(0, 359, 360)),\n",
    "                 ('latitude',  np.linspace(60, 90, 31))]"
   ]
  },
  {
   "cell_type": "code",
   "execution_count": 86,
   "metadata": {},
   "outputs": [],
   "source": [
    "#This code is used to select temperature data from ta netcdf files at 850 hPa\n",
    "\n",
    "filename = r'C:\\Users\\Asus\\Desktop\\Masters Project\\Uncut Data\\tas_HadGEM3-GC31-MM*.nc'\n"
   ]
  },
  {
   "cell_type": "code",
   "execution_count": 62,
   "metadata": {},
   "outputs": [],
   "source": [
    "#Concatenate Cubes\n",
    "equalise_attributes(cubes1)\n",
    "cube = cubes1.concatenate_cube()\n"
   ]
  },
  {
   "cell_type": "code",
   "execution_count": 84,
   "metadata": {},
   "outputs": [],
   "source": [
    "#Regrid on 1x1 grid\n",
    "\n",
    "cube_regrid = cube_new.interpolate(sample_points, iris.analysis.Linear())"
   ]
  },
  {
   "cell_type": "code",
   "execution_count": 85,
   "metadata": {},
   "outputs": [],
   "source": [
    "iris.save(cube_regrid,r'C:\\Users\\Asus\\Desktop\\Masters Project\\Data\\tas_24_mar\\Regridded tas combined\\tas_HadGEM3-GC31-LL_combined.nc')"
   ]
  }
 ],
 "metadata": {
  "kernelspec": {
   "display_name": "Python 3",
   "language": "python",
   "name": "python3"
  },
  "language_info": {
   "codemirror_mode": {
    "name": "ipython",
    "version": 3
   },
   "file_extension": ".py",
   "mimetype": "text/x-python",
   "name": "python",
   "nbconvert_exporter": "python",
   "pygments_lexer": "ipython3",
   "version": "3.7.4"
  }
 },
 "nbformat": 4,
 "nbformat_minor": 2
}
