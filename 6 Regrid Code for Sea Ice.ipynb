{
 "cells": [
  {
   "cell_type": "code",
   "execution_count": 1,
   "metadata": {},
   "outputs": [],
   "source": [
    "# Import Relevant Packages\n",
    "# Code is credited to Dr. Michelle McCrystall of the University of Manitoba\n",
    "\n",
    "import numpy as np\n",
    "import iris as iris\n",
    "import iris.coord_categorisation\n",
    "import scipy as sp\n",
    "from scipy import signal\n",
    "import glob\n",
    "from iris.experimental.equalise_cubes import equalise_attributes\n",
    "import pandas as pd\n",
    "\n",
    "import cartopy.crs as ccrs\n",
    "import iris.plot as iplt\n",
    "import matplotlib.pyplot as plt\n",
    "import sys\n",
    "\n",
    "import cartopy\n",
    "from cartopy.mpl.gridliner import LONGITUDE_FORMATTER, LATITUDE_FORMATTER\n",
    "import warnings\n",
    "import matplotlib.gridspec as gridspec\n",
    "import iris.quickplot as qplt\n",
    "import matplotlib\n",
    "import matplotlib.ticker as mticker\n",
    "import iris.quickplot as qplt\n",
    "\n",
    "import matplotlib.path as mpath\n",
    "import cf_units\n",
    "from iris.experimental.regrid import regrid_weighted_curvilinear_to_rectilinear\n",
    "from dateutil import parser\n",
    "from datetime import datetime, timedelta\n",
    "from netCDF4 import Dataset, date2num, num2date\n",
    "from datetime import datetime, timedelta\n",
    "import matplotlib as mpl\n",
    "from pathlib import Path\n",
    "\n",
    "import warnings\n",
    "warnings.filterwarnings(\"ignore\")\n"
   ]
  },
  {
   "cell_type": "code",
   "execution_count": 2,
   "metadata": {},
   "outputs": [],
   "source": [
    "# Make a dummy grid and input desired 1D grid coordinates\n",
    "\n",
    "def make_grid(lat_values, lon_values):\n",
    "            \n",
    "    latitude = iris.coords.DimCoord(lat_values,\n",
    "                                    standard_name='latitude',\n",
    "                                    units='degrees_north',\n",
    "                                    coord_system=iris.coord_systems.GeogCS(iris.fileformats.pp.EARTH_RADIUS))\n",
    "    longitude = iris.coords.DimCoord(lon_values,                     \n",
    "                                     standard_name='longitude',\n",
    "                                     units='degrees_east',\n",
    "                                     coord_system=iris.coord_systems.GeogCS(iris.fileformats.pp.EARTH_RADIUS))\n",
    "\n",
    "    dummy_data = np.zeros((len(lat_values), len(lon_values)), dtype=np.float32)\n",
    "    new_cube = iris.cube.Cube(dummy_data, dim_coords_and_dims=[(latitude, 0), (longitude, 1)])\n",
    "    \n",
    "    return new_cube"
   ]
  },
  {
   "cell_type": "code",
   "execution_count": null,
   "metadata": {},
   "outputs": [],
   "source": [
    "# Import File\n",
    "file1 = #path to file\n"
   ]
  },
  {
   "cell_type": "code",
   "execution_count": 3,
   "metadata": {},
   "outputs": [],
   "source": [
    "\n",
    "regrid_lat = np.linspace(60, 90, 16)\n",
    "regrid_lon = np.linspace(0, 359, 180)\n",
    "\n"
   ]
  },
  {
   "cell_type": "code",
   "execution_count": 27,
   "metadata": {},
   "outputs": [],
   "source": [
    "cube_test = iris.load_cube(file1)\n",
    "\n",
    "# Use constraint to reduce size of data proccessed if necessary\n",
    "year_test = iris.Constraint(time=lambda cell: 2090 <= cell.point.year <= 2100)\n",
    "cube = cube_test.extract(year_test)"
   ]
  },
  {
   "cell_type": "code",
   "execution_count": 28,
   "metadata": {},
   "outputs": [
    {
     "name": "stdout",
     "output_type": "stream",
     "text": [
      "[[1. 1. 1. ... 1. 1. 1.]\n",
      " [1. 1. 1. ... 1. 1. 1.]\n",
      " [1. 1. 1. ... 1. 1. 1.]\n",
      " ...\n",
      " [1. 1. 1. ... 1. 1. 1.]\n",
      " [1. 1. 1. ... 1. 1. 1.]\n",
      " [1. 1. 1. ... 1. 1. 1.]]\n"
     ]
    }
   ],
   "source": [
    "ntime = cube.coord('time').points\n",
    "\n",
    "if len(cube.coords('year'))==0:\n",
    "\tiris.coord_categorisation.add_year(cube, 'time', name='year')\n",
    "    \n",
    "# Find start year, end year\n",
    "startyear = np.str(cube.coord('year')[0].points[0]) \n",
    "endyear = np.str(cube.coord('year')[-1].points[0]) \n",
    "\n",
    "new_cube = cube\n",
    "\n",
    "# Cube weights\n",
    "weights = np.ones(new_cube[0].shape)\n",
    "print(weights)\n",
    "\n",
    "# Create a cube to regird onto\n",
    "target_grid_cube = make_grid(regrid_lat, regrid_lon)\n",
    "\n",
    "# Guess bounds for lat and lon\n",
    "target_grid_cube.coord('longitude').guess_bounds()\n",
    "target_grid_cube.coord('latitude').guess_bounds()\n",
    "\n",
    "# Force coordinate system onto axis\n",
    "new_cube.coord(axis='x').coord_system = iris.coord_systems.GeogCS(iris.fileformats.pp.EARTH_RADIUS)\n",
    "new_cube.coord(axis='y').coord_system = iris.coord_systems.GeogCS(iris.fileformats.pp.EARTH_RADIUS)\n",
    "\n",
    "regridded_cube_per_model = iris.cube.CubeList([])\n",
    "\n",
    "# Loop through each time series \n",
    "for i in range(0, len(ntime)):\n",
    "    \n",
    "    # Regrid different grids\n",
    "    regridded_cube= regrid_weighted_curvilinear_to_rectilinear(new_cube[i,:,:], weights, target_grid_cube)\n",
    "    \n",
    "    cast_data = regridded_cube.data.astype(np.float32)\n",
    "    regridded_cube.data = cast_data\n",
    "    \n",
    "    regridded_cube_per_model.append(regridded_cube)\n",
    "\n",
    "cube_regridded = regridded_cube_per_model.merge_cube()"
   ]
  },
  {
   "cell_type": "code",
   "execution_count": 29,
   "metadata": {},
   "outputs": [
    {
     "name": "stdout",
     "output_type": "stream",
     "text": [
      "sea_ice_thickness / (m)             (time: 132; latitude: 16; longitude: 180)\n",
      "     Dimension coordinates:\n",
      "          time                           x              -              -\n",
      "          latitude                       -              x              -\n",
      "          longitude                      -              -              x\n",
      "     Auxiliary coordinates:\n",
      "          year                           x              -              -\n",
      "     Attributes:\n",
      "          Conventions: CF-1.7 CMIP-6.2\n",
      "          activity_id: ScenarioMIP\n",
      "          branch_method: standard\n",
      "          branch_time_in_child: 59400.0\n",
      "          branch_time_in_parent: 59400.0\n",
      "          cmor_version: 3.4.0\n",
      "          comment: Actual (floe) thickness of sea ice (NOT volume divided by grid area as...\n",
      "          creation_date: 2020-05-05T09:49:39Z\n",
      "          cv_version: 6.2.37.5\n",
      "          data_specs_version: 01.00.29\n",
      "          experiment: update of RCP8.5 based on SSP5\n",
      "          experiment_id: ssp585\n",
      "          external_variables: areacello\n",
      "          forcing_index: 3\n",
      "          frequency: mon\n",
      "          further_info_url: https://furtherinfo.es-doc.org/CMIP6.MOHC.HadGEM3-GC31-MM.ssp585.none....\n",
      "          grid: Native eORCA025 tripolar primarily 1/4 deg grid; 1440 x 1205 longitude...\n",
      "          grid_label: gn\n",
      "          history: 2020-05-05T09:49:39Z altered by CMOR: replaced missing value flag (1e+30)...\n",
      "          initialization_index: 1\n",
      "          institution: Met Office Hadley Centre, Fitzroy Road, Exeter, Devon, EX1 3PB, UK\n",
      "          institution_id: MOHC\n",
      "          license: CMIP6 model data produced by the Met Office Hadley Centre is licensed under...\n",
      "          mip_era: CMIP6\n",
      "          mo_runid: u-bi078\n",
      "          nominal_resolution: 25 km\n",
      "          original_name: mo: (variable_name: sithick)\n",
      "          parent_activity_id: CMIP\n",
      "          parent_experiment_id: historical\n",
      "          parent_mip_era: CMIP6\n",
      "          parent_source_id: HadGEM3-GC31-MM\n",
      "          parent_time_units: days since 1850-01-01\n",
      "          parent_variant_label: r1i1p1f3\n",
      "          physics_index: 1\n",
      "          product: model-output\n",
      "          realization_index: 1\n",
      "          realm: seaIce\n",
      "          source: HadGEM3-GC31-MM (2016): \n",
      "aerosol: UKCA-GLOMAP-mode\n",
      "atmos: MetUM-HadGEM3-GA7.1...\n",
      "          source_id: HadGEM3-GC31-MM\n",
      "          source_type: AOGCM AER\n",
      "          sub_experiment: none\n",
      "          sub_experiment_id: none\n",
      "          table_id: SImon\n",
      "          table_info: Creation Date:(13 December 2018) MD5:f0588f7f55b5732b17302f8d9d0d7b8c\n",
      "          title: HadGEM3-GC31-MM output prepared for CMIP6\n",
      "          tracking_id: hdl:21.14100/613923e1-7aee-4c3b-aec8-3e85e2a555b1\n",
      "          variable_id: sithick\n",
      "          variable_name: sithick\n",
      "          variant_label: r1i1p1f3\n",
      "     Cell methods:\n",
      "          mean where sea_ice: area (mask=siconc), time (mask=siconc)\n"
     ]
    }
   ],
   "source": [
    "# Check regridded cube is 1D array with correct coordinates\n",
    "print(cube_regridded)"
   ]
  },
  {
   "cell_type": "code",
   "execution_count": 30,
   "metadata": {},
   "outputs": [],
   "source": [
    "# Save regridded cube\n",
    "iris.save(cube_regridded,r'C:\\Users\\Asus\\Desktop\\Masters Project\\Uncut Data\\sithick 10 May\\regrid 10 may (16x180)\\sithick_HadGEM3-GC31-MM-ssp585.nc')"
   ]
  }
 ],
 "metadata": {
  "kernelspec": {
   "display_name": "Python 3",
   "language": "python",
   "name": "python3"
  },
  "language_info": {
   "codemirror_mode": {
    "name": "ipython",
    "version": 3
   },
   "file_extension": ".py",
   "mimetype": "text/x-python",
   "name": "python",
   "nbconvert_exporter": "python",
   "pygments_lexer": "ipython3",
   "version": "3.7.4"
  }
 },
 "nbformat": 4,
 "nbformat_minor": 2
}
