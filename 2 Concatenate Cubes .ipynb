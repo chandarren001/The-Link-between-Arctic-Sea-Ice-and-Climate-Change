{
 "cells": [
  {
   "cell_type": "code",
   "execution_count": null,
   "metadata": {},
   "outputs": [],
   "source": [
    "import numpy as np\n",
    "import iris\n",
    "from iris.experimental.equalise_cubes import equalise_attributes"
   ]
  },
  {
   "cell_type": "code",
   "execution_count": null,
   "metadata": {},
   "outputs": [],
   "source": [
    "#This code is used to select temperature data from ta netcdf files at 850 hPa\n",
    "\n",
    "filename = #path to file\n",
    "cubes = iris.load(filename)"
   ]
  },
  {
   "cell_type": "code",
   "execution_count": null,
   "metadata": {},
   "outputs": [],
   "source": [
    "print(cubes)"
   ]
  },
  {
   "cell_type": "code",
   "execution_count": null,
   "metadata": {},
   "outputs": [],
   "source": [
    "equalise_attributes(cubes)\n",
    "cube = cubes.concatenate_cube()\n",
    "print(cube)"
   ]
  },
  {
   "cell_type": "code",
   "execution_count": null,
   "metadata": {},
   "outputs": [],
   "source": [
    "#This code is to select 850 hPa temperature and to regrid on 1x1 cells for ssp585 values\n",
    "\n",
    "\n",
    "#Select all 850 hPa temperature values\n",
    "cube_850 = cube.extract(iris.Constraint(air_pressure=85000))\n",
    "\n",
    "#Create regrid reference points for 1x1 grid above 60N Latitude\n",
    "sample_points = [('longitude', np.linspace(0, 359, 360)),\n",
    "                 ('latitude',  np.linspace(60, 90, 31))]\n",
    "\n",
    "#Regrid cube at 850 hPa\n",
    "cube_regrid = cube_850.interpolate(sample_points, iris.analysis.Linear())\n"
   ]
  },
  {
   "cell_type": "code",
   "execution_count": null,
   "metadata": {},
   "outputs": [],
   "source": [
    "#Save into netcdf file for analysis\n",
    "iris.save(cube_regrid,#path to save file)"
   ]
  },
  {
   "cell_type": "code",
   "execution_count": null,
   "metadata": {},
   "outputs": [],
   "source": [
    "print(cube_regrid)"
   ]
  },
  {
   "cell_type": "code",
   "execution_count": null,
   "metadata": {},
   "outputs": [],
   "source": []
  }
 ],
 "metadata": {
  "kernelspec": {
   "display_name": "Python 3",
   "language": "python",
   "name": "python3"
  },
  "language_info": {
   "codemirror_mode": {
    "name": "ipython",
    "version": 3
   },
   "file_extension": ".py",
   "mimetype": "text/x-python",
   "name": "python",
   "nbconvert_exporter": "python",
   "pygments_lexer": "ipython3",
   "version": "3.7.4"
  }
 },
 "nbformat": 4,
 "nbformat_minor": 2
}
