{
 "cells": [
  {
   "cell_type": "code",
   "execution_count": 4,
   "metadata": {},
   "outputs": [],
   "source": [
    "#Regrid code for Greenland\n",
    "import iris\n",
    "import numpy as np"
   ]
  },
  {
   "cell_type": "code",
   "execution_count": 5,
   "metadata": {},
   "outputs": [],
   "source": [
    "ref_cube = iris.load_cube(r'C:\\Users\\Asus\\Desktop\\Masters Project\\Uncut Data\\tas\\tas_CESM2-WACCM_SSP585_r1i1p1f1_201501_210012.nc')\n",
    "sample_points = [('longitude', np.linspace(290, 340, 51)),\n",
    "                 ('latitude',  np.linspace(60, 85, 26))]"
   ]
  },
  {
   "cell_type": "code",
   "execution_count": 16,
   "metadata": {},
   "outputs": [
    {
     "name": "stderr",
     "output_type": "stream",
     "text": [
      "C:\\Users\\Asus\\Anaconda4\\lib\\site-packages\\iris\\fileformats\\cf.py:803: UserWarning: Missing CF-netCDF measure variable 'areacella', referenced by netCDF variable 'tas'\n",
      "  warnings.warn(message % (variable_name, nc_var_name))\n",
      "C:\\Users\\Asus\\Anaconda4\\lib\\site-packages\\iris\\fileformats\\cf.py:803: UserWarning: Missing CF-netCDF measure variable 'areacella', referenced by netCDF variable 'pr'\n",
      "  warnings.warn(message % (variable_name, nc_var_name))\n"
     ]
    }
   ],
   "source": [
    "#2000-2014\n",
    "file_tas = r'C:\\Users\\Asus\\Desktop\\Masters Project\\Uncut Data\\tas_HadGEM3-GC31-LL_historical.nc'\n",
    "file_pr = r'C:\\Users\\Asus\\Desktop\\Masters Project\\Uncut Data\\pr_HadGEM3-GC31-LL_historicalv1.nc'\n",
    "cube_tas = iris.load_cube(file_tas)\n",
    "cube_pr = iris.load_cube(file_pr)\n",
    "\n",
    "#constraint selection iris\n",
    "year_2000 = iris.Constraint(time=lambda cell: 2000 <= cell.point.year <= 2014)\n",
    "tas_cube_2000 = cube_tas.extract(year_2000)\n",
    "pr_cube_2000 = cube_pr.extract(year_2000)\n",
    "\n",
    "\n",
    "tas_regrid = tas_cube_2000.regrid(ref_cube, iris.analysis.Linear())  \n",
    "pr_regrid = pr_cube_2000.regrid(ref_cube, iris.analysis.Linear())  \n",
    "\n",
    "\n",
    "\n"
   ]
  },
  {
   "cell_type": "code",
   "execution_count": 17,
   "metadata": {},
   "outputs": [],
   "source": [
    "tas_regrid_me = tas_regrid.interpolate(sample_points, iris.analysis.Linear())\n",
    "pr_regrid_me = pr_regrid.interpolate(sample_points, iris.analysis.Linear())"
   ]
  },
  {
   "cell_type": "code",
   "execution_count": 19,
   "metadata": {},
   "outputs": [],
   "source": [
    "iris.save(tas_regrid_me,r'C:\\Users\\Asus\\Desktop\\Masters Project\\Uncut Data\\Greenland Coordinates\\HadGEM3-GC31-LL\\tas_HadGEM3-GC31-LL_2000-2014v2.nc')\n",
    "iris.save(pr_regrid_me,r'C:\\Users\\Asus\\Desktop\\Masters Project\\Uncut Data\\Greenland Coordinates\\HadGEM3-GC31-LL\\pr_HadGEM3-GC31-LL_2000-2014v2.nc')"
   ]
  },
  {
   "cell_type": "code",
   "execution_count": 6,
   "metadata": {},
   "outputs": [
    {
     "name": "stderr",
     "output_type": "stream",
     "text": [
      "C:\\Users\\Asus\\Anaconda4\\lib\\site-packages\\iris\\fileformats\\cf.py:803: UserWarning: Missing CF-netCDF measure variable 'areacella', referenced by netCDF variable 'tas'\n",
      "  warnings.warn(message % (variable_name, nc_var_name))\n",
      "C:\\Users\\Asus\\Anaconda4\\lib\\site-packages\\iris\\fileformats\\cf.py:803: UserWarning: Missing CF-netCDF measure variable 'areacella', referenced by netCDF variable 'pr'\n",
      "  warnings.warn(message % (variable_name, nc_var_name))\n"
     ]
    }
   ],
   "source": [
    "#2015-2049\n",
    "file_tas1 = r'C:\\Users\\Asus\\Desktop\\Masters Project\\Uncut Data\\tas_day_HadGEM3-GC31-LL_ssp585_r1i1p1f3_gn_20150101-20491230.nc'\n",
    "file_pr1 = r'C:\\Users\\Asus\\Desktop\\Masters Project\\Uncut Data\\pr_day_HadGEM3-GC31-LL_ssp585_r1i1p1f3_gn_20150101-20491230.nc'\n",
    "cube_tas1 = iris.load_cube(file_tas1)\n",
    "cube_pr1 = iris.load_cube(file_pr1)\n",
    "\n",
    "tas_regrid1 = cube_tas1.regrid(ref_cube, iris.analysis.Linear())  \n",
    "pr_regrid1 = cube_pr1.regrid(ref_cube, iris.analysis.Linear()) "
   ]
  },
  {
   "cell_type": "code",
   "execution_count": 7,
   "metadata": {},
   "outputs": [],
   "source": [
    "tas_regrid_me1 = tas_regrid1.interpolate(sample_points, iris.analysis.Linear())\n",
    "pr_regrid_me1 = pr_regrid1.interpolate(sample_points, iris.analysis.Linear())"
   ]
  },
  {
   "cell_type": "code",
   "execution_count": 8,
   "metadata": {},
   "outputs": [],
   "source": [
    "iris.save(tas_regrid_me1,r'C:\\Users\\Asus\\Desktop\\Masters Project\\Uncut Data\\Greenland Coordinates\\HadGEM3-GC31-LL\\tas_HadGEM3-GC31-LL_2015-2049.nc')\n",
    "iris.save(pr_regrid_me1,r'C:\\Users\\Asus\\Desktop\\Masters Project\\Uncut Data\\Greenland Coordinates\\HadGEM3-GC31-LL\\pr_HadGEM3-GC31-LL_2015-2049.nc')"
   ]
  },
  {
   "cell_type": "code",
   "execution_count": 9,
   "metadata": {},
   "outputs": [
    {
     "name": "stderr",
     "output_type": "stream",
     "text": [
      "C:\\Users\\Asus\\Anaconda4\\lib\\site-packages\\iris\\fileformats\\cf.py:803: UserWarning: Missing CF-netCDF measure variable 'areacella', referenced by netCDF variable 'tas'\n",
      "  warnings.warn(message % (variable_name, nc_var_name))\n",
      "C:\\Users\\Asus\\Anaconda4\\lib\\site-packages\\iris\\fileformats\\cf.py:803: UserWarning: Missing CF-netCDF measure variable 'areacella', referenced by netCDF variable 'pr'\n",
      "  warnings.warn(message % (variable_name, nc_var_name))\n"
     ]
    }
   ],
   "source": [
    "#2050-2100\n",
    "file_tas2 = r'C:\\Users\\Asus\\Desktop\\Masters Project\\Uncut Data\\tas_day_HadGEM3-GC31-LL_ssp585_r1i1p1f3_gn_20500101-21001230.nc'\n",
    "file_pr2 = r'C:\\Users\\Asus\\Desktop\\Masters Project\\Uncut Data\\pr_day_HadGEM3-GC31-LL_ssp585_r1i1p1f3_gn_20500101-21001230.nc'\n",
    "cube_tas2 = iris.load_cube(file_tas2)\n",
    "cube_pr2 = iris.load_cube(file_pr2)\n",
    "\n",
    "tas_regrid2 = cube_tas2.regrid(ref_cube, iris.analysis.Linear())  \n",
    "pr_regrid2 = cube_pr2.regrid(ref_cube, iris.analysis.Linear())  "
   ]
  },
  {
   "cell_type": "code",
   "execution_count": 10,
   "metadata": {},
   "outputs": [],
   "source": [
    "tas_regrid_me2 = tas_regrid2.interpolate(sample_points, iris.analysis.Linear())\n",
    "pr_regrid_me2 = pr_regrid2.interpolate(sample_points, iris.analysis.Linear())"
   ]
  },
  {
   "cell_type": "code",
   "execution_count": 11,
   "metadata": {},
   "outputs": [],
   "source": [
    "iris.save(tas_regrid_me2,r'C:\\Users\\Asus\\Desktop\\Masters Project\\Uncut Data\\Greenland Coordinates\\HadGEM3-GC31-LL\\tas_HadGEM3-GC31-LL_2050-2100.nc')\n",
    "iris.save(pr_regrid_me2,r'C:\\Users\\Asus\\Desktop\\Masters Project\\Uncut Data\\Greenland Coordinates\\HadGEM3-GC31-LL\\pr_HadGEM3-GC31-LL_2050-2100.nc')"
   ]
  }
 ],
 "metadata": {
  "kernelspec": {
   "display_name": "Python 3",
   "language": "python",
   "name": "python3"
  },
  "language_info": {
   "codemirror_mode": {
    "name": "ipython",
    "version": 3
   },
   "file_extension": ".py",
   "mimetype": "text/x-python",
   "name": "python",
   "nbconvert_exporter": "python",
   "pygments_lexer": "ipython3",
   "version": "3.7.4"
  }
 },
 "nbformat": 4,
 "nbformat_minor": 2
}
