{
 "cells": [
  {
   "cell_type": "code",
   "execution_count": 1,
   "metadata": {},
   "outputs": [],
   "source": [
    "#PDD Code\n",
    "import xarray as xr\n",
    "import iris\n",
    "import numpy as np\n",
    "import cf_units\n",
    "import cftime\n",
    "import datetime\n",
    "from pypdd import PDDModel\n",
    "import matplotlib.pyplot as plt"
   ]
  },
  {
   "cell_type": "code",
   "execution_count": 2,
   "metadata": {},
   "outputs": [],
   "source": [
    "pdd = PDDModel()"
   ]
  },
  {
   "cell_type": "code",
   "execution_count": 3,
   "metadata": {},
   "outputs": [],
   "source": [
    "def PDD(year):\n",
    "    #Load files for tas and pr\n",
    "    tas = xr.open_dataset(r'C:\\Users\\Asus\\Desktop\\Masters Project\\Uncut Data\\Greenland Coordinates\\tas_IPSL-CM6A-LR_combined.nc')\n",
    "    pr = xr.open_dataset(r'C:\\Users\\Asus\\Desktop\\Masters Project\\Uncut Data\\Greenland Coordinates\\pr_IPSL-CM6A-LR_combined.nc')\n",
    "    #Code to select year, if 2000, code will run PDD for year 2000\n",
    "    tas_data_year = tas.sel(time = tas.time.dt.year.isin([year]))\n",
    "    pr_data_year = pr.sel(time = pr.time.dt.year.isin([year]))\n",
    "    \n",
    "    #Change to celsius \n",
    "    tas_celsius = tas_data_year['tas'] - 273.15\n",
    "    \n",
    "    #PDD model runs on pdd(tas,pr), extract only the pdd variable ['pdd']\n",
    "    pdd_year = pdd(tas_celsius,pr_data_year['pr'])['pdd']\n",
    "    \n",
    "    #Take the average of the pdd for the year\n",
    "    pdd_average = np.average(pdd_year)\n",
    "    return pdd_average"
   ]
  },
  {
   "cell_type": "code",
   "execution_count": 4,
   "metadata": {},
   "outputs": [],
   "source": [
    "#Create for loop and append to list. PDD(year) returns one value.\n",
    "PDD_ds = []\n",
    "\n",
    "for year in range(2000,2101):\n",
    "    avg = PDD(year)\n",
    "    PDD_ds.append(avg)\n",
    "    "
   ]
  },
  {
   "cell_type": "code",
   "execution_count": 5,
   "metadata": {},
   "outputs": [],
   "source": [
    "#Save the new array into csv file\n",
    "from numpy import savetxt\n",
    "savetxt(r'C:\\Users\\Asus\\Desktop\\Masters Project\\Data\\PDD\\PDD_pr_IPSL-CM6A-LR_2000-2100.csv',PDD_ds)"
   ]
  },
  {
   "cell_type": "code",
   "execution_count": 6,
   "metadata": {},
   "outputs": [
    {
     "data": {
      "text/plain": [
       "Text(0, 0.5, 'Positive Degree Days)')"
      ]
     },
     "execution_count": 6,
     "metadata": {},
     "output_type": "execute_result"
    },
    {
     "data": {
      "image/png": "[encoded data removed]",
      "text/plain": [
       "<Figure size 432x288 with 1 Axes>"
      ]
     },
     "metadata": {
      "needs_background": "light"
     },
     "output_type": "display_data"
    }
   ],
   "source": [
    "#Plot to check that PDD works for this model\n",
    "plt.plot(range(2000,2101),PDD_ds,color='blue',linewidth=0.5,label='PDD')\n",
    "\n",
    "plt.xlabel('time (year)')\n",
    "plt.ylabel('Positive Degree Days)')"
   ]
  },
  {
   "cell_type": "code",
   "execution_count": 7,
   "metadata": {},
   "outputs": [],
   "source": [
    "#Code for model mean\n",
    "from numpy import loadtxt\n",
    "ds1 = loadtxt(r'C:\\Users\\Asus\\Desktop\\Masters Project\\Data\\PDD\\PDD_ACCESS-CM2_2000-2100.csv')\n",
    "ds2 = loadtxt(r'C:\\Users\\Asus\\Desktop\\Masters Project\\Data\\PDD\\PDD_ACCESS-ESM1-5_2000-2100.csv')\n",
    "ds3 = loadtxt(r'C:\\Users\\Asus\\Desktop\\Masters Project\\Data\\PDD\\PDD_CanESM5_2000-2100.csv')\n",
    "ds4 = loadtxt(r'C:\\Users\\Asus\\Desktop\\Masters Project\\Data\\PDD\\PDD_CNRM-ESM2-1_2000-2100.csv')\n",
    "ds5 = loadtxt(r'C:\\Users\\Asus\\Desktop\\Masters Project\\Data\\PDD\\PDD_MIROC6_2000-2100.csv')\n",
    "ds6 = loadtxt(r'C:\\Users\\Asus\\Desktop\\Masters Project\\Data\\PDD\\PDD_MRI-ESM2-0_2000-2100.csv')\n",
    "ds7 = loadtxt(r'C:\\Users\\Asus\\Desktop\\Masters Project\\Data\\PDD\\PDD_NorESM2-LM_2000-2100.csv')\n",
    "ds8 = loadtxt(r'C:\\Users\\Asus\\Desktop\\Masters Project\\Data\\PDD\\PDD_pr_IPSL-CM6A-LR_2000-2100.csv')\n",
    "ds9 = loadtxt(r'C:\\Users\\Asus\\Desktop\\Masters Project\\Data\\PDD\\PDD_HadGEM3-GC31-LL_2000-2100.csv')\n",
    "ds10 = loadtxt(r'C:\\Users\\Asus\\Desktop\\Masters Project\\Data\\PDD\\PDD_HadGEM3-GC31-MM_2000-2100.csv')\n",
    "ds11 = loadtxt(r'C:\\Users\\Asus\\Desktop\\Masters Project\\Data\\PDD\\PDD_EC-Earth3_2000-2100.csv')\n",
    "ds12 = loadtxt(r'C:\\Users\\Asus\\Desktop\\Masters Project\\Data\\PDD\\PDD_EC-Earth3-Veg_2000-2100.csv')"
   ]
  },
  {
   "cell_type": "code",
   "execution_count": 8,
   "metadata": {},
   "outputs": [
    {
     "name": "stdout",
     "output_type": "stream",
     "text": [
      "[340.70543328 371.25652994 356.47701733 337.80392673 353.57599617\n",
      " 369.14573307 378.44524857 367.71643953 373.28868853 362.99077151\n",
      " 375.11487253 370.23507902 384.99770105 385.14765059 389.1694002\n",
      " 394.88163176 380.94659471 392.38964011 378.63771007 385.44223015\n",
      " 393.09119905 408.771019   406.74583703 420.24343137 411.48823724\n",
      " 405.494089   411.94013581 422.36032012 440.98224909 409.84530821\n",
      " 415.36597694 432.31193537 421.8467456  421.23524875 428.94233543\n",
      " 411.1680924  433.56854378 431.11217011 436.69390301 426.03868974\n",
      " 411.62506539 434.77807489 455.68371667 458.25961708 456.07191807\n",
      " 477.72370167 482.81616223 495.83786014 479.79366273 483.53915548\n",
      " 496.50541457 471.58960567 494.48320421 518.11217963 526.32093755\n",
      " 514.39646306 540.74718122 545.39282731 552.39045781 552.09629338\n",
      " 571.69030559 551.98681341 536.4227054  553.60674665 532.04988291\n",
      " 520.10025305 546.20645854 572.9740244  557.19125934 591.69655534\n",
      " 594.30977041 629.10880254 617.36446422 628.10250422 611.40801932\n",
      " 639.82650546 652.40611062 672.67602686 686.24714536 697.27820516\n",
      " 707.76147538 726.76474369 729.55316211 697.18852771 726.24323124\n",
      " 763.02487631 761.12621917 802.14568097 817.28269636 823.97070028\n",
      " 828.11700346 875.78181832 856.55297116 827.37147173 876.45046834\n",
      " 900.54047545 890.01832558 914.52464592 937.262728   979.86771545\n",
      " 966.94336139]\n"
     ]
    }
   ],
   "source": [
    "ds_combined = (ds1+ds2+ds3+ds4+ds5+ds6+ds7+ds8+ds9+ds10+ds11+ds12)/12\n",
    "print(ds_combined)"
   ]
  },
  {
   "cell_type": "code",
   "execution_count": 9,
   "metadata": {},
   "outputs": [
    {
     "data": {
      "image/png": "[encoded data removed]",
      "text/plain": [
       "<Figure size 432x288 with 1 Axes>"
      ]
     },
     "metadata": {
      "needs_background": "light"
     },
     "output_type": "display_data"
    }
   ],
   "source": [
    "plt.plot(range(2000,2101),ds_combined,color='blue',linewidth=0.5,label='PDD')\n",
    "\n",
    "plt.xlabel('Year')\n",
    "plt.ylabel('Positive Degree Days (℃ yr$^-1$)')\n",
    "\n",
    "plt.savefig(r'C:\\Users\\Asus\\Desktop\\Masters Project\\Graphs\\PDD_Multi-Modelv1.png', dpi = 300 , bbox_inches = 'tight')"
   ]
  },
  {
   "cell_type": "code",
   "execution_count": null,
   "metadata": {},
   "outputs": [],
   "source": []
  }
 ],
 "metadata": {
  "kernelspec": {
   "display_name": "Python 3",
   "language": "python",
   "name": "python3"
  },
  "language_info": {
   "codemirror_mode": {
    "name": "ipython",
    "version": 3
   },
   "file_extension": ".py",
   "mimetype": "text/x-python",
   "name": "python",
   "nbconvert_exporter": "python",
   "pygments_lexer": "ipython3",
   "version": "3.7.4"
  }
 },
 "nbformat": 4,
 "nbformat_minor": 2
}
