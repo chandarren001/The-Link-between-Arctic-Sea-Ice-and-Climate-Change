{
 "cells": [
  {
   "cell_type": "code",
   "execution_count": 1,
   "metadata": {},
   "outputs": [],
   "source": [
    "import iris\n",
    "from iris.experimental.equalise_cubes import equalise_attributes"
   ]
  },
  {
   "cell_type": "code",
   "execution_count": 2,
   "metadata": {},
   "outputs": [],
   "source": [
    "# Download cubes into a cubelist\n",
    "cubelist = iris.load(r'C:\\Users\\Asus\\Desktop\\Masters Project\\Data\\tas_24_mar\\Regridded tas combined\\tas*.nc')"
   ]
  },
  {
   "cell_type": "code",
   "execution_count": 41,
   "metadata": {},
   "outputs": [
    {
     "name": "stdout",
     "output_type": "stream",
     "text": [
      "air_temperature / (K)               (time: 1812; latitude: 31; longitude: 360)\n",
      "     Dimension coordinates:\n",
      "          time                           x               -              -\n",
      "          latitude                       -               x              -\n",
      "          longitude                      -               -              x\n",
      "     Scalar coordinates:\n",
      "          Model: NorESM2-LM\n",
      "     Attributes:\n",
      "          Conventions: CF-1.7\n",
      "          external_variables: areacella\n",
      "          frequency: mon\n",
      "          initialization_index: 1\n",
      "          mip_era: CMIP6\n",
      "          parent_activity_id: CMIP\n",
      "          parent_mip_era: CMIP6\n",
      "          physics_index: 1\n",
      "          product: model-output\n",
      "          realization_index: 1\n",
      "          realm: atmos\n",
      "          sub_experiment: none\n",
      "          sub_experiment_id: none\n",
      "          table_id: Amon\n",
      "          variable_id: tas\n",
      "     Cell methods:\n",
      "          mean: area, time\n"
     ]
    }
   ],
   "source": [
    "# Remove scalar coordinate height from each cube from cubelist by manually selecting cube 0 - 11\n",
    "\n",
    "Cube = cubelist[11]\n",
    "Cube.remove_coord('height')\n",
    "\n",
    "\n",
    "print(Cube)"
   ]
  },
  {
   "cell_type": "code",
   "execution_count": 26,
   "metadata": {},
   "outputs": [
    {
     "name": "stdout",
     "output_type": "stream",
     "text": [
      "0: air_temperature / (K)               (time: 1812; latitude: 31; longitude: 360)\n",
      "1: air_temperature / (K)               (time: 1812; latitude: 31; longitude: 360)\n",
      "2: air_temperature / (K)               (time: 1812; latitude: 31; longitude: 360)\n",
      "3: air_temperature / (K)               (time: 1812; latitude: 31; longitude: 360)\n",
      "4: air_temperature / (K)               (time: 1812; latitude: 31; longitude: 360)\n",
      "5: air_temperature / (K)               (time: 1812; latitude: 31; longitude: 360)\n",
      "6: air_temperature / (K)               (time: 1812; latitude: 31; longitude: 360)\n",
      "7: air_temperature / (K)               (time: 1812; latitude: 31; longitude: 360)\n",
      "8: air_temperature / (K)               (time: 1812; latitude: 31; longitude: 360)\n",
      "9: air_temperature / (K)               (time: 1812; latitude: 31; longitude: 360)\n",
      "10: air_temperature / (K)               (time: 1812; latitude: 31; longitude: 360)\n",
      "11: air_temperature / (K)               (time: 1812; latitude: 31; longitude: 360)\n"
     ]
    }
   ],
   "source": [
    "print(cubelist)"
   ]
  },
  {
   "cell_type": "code",
   "execution_count": 44,
   "metadata": {},
   "outputs": [],
   "source": [
    "# Force each cube into a standard time coordinate using cube 0 as the reference\n",
    "time_coord = cubelist[0]\n",
    "cell_methods = cubelist[0].cell_methods\n",
    "long_name = cubelist[0].long_name\n",
    "\n",
    "cubelist[11].coord('time').units      = time_coord.coord('time').units\n",
    "cubelist[11].coord('time').bounds     = time_coord.coord('time').bounds\n",
    "cubelist[11].coord('time').points     = time_coord.coord('time').points    \n",
    "cubelist[11].coord('time').attributes = time_coord.coord('time').attributes\n",
    "cubelist[11].coord('time').long_name  = time_coord.coord('time').long_name\n",
    "cubelist[11].cell_methods = cell_methods"
   ]
  },
  {
   "cell_type": "code",
   "execution_count": 54,
   "metadata": {},
   "outputs": [],
   "source": [
    "# Merge cubelist into one cube\n",
    "iris.util.unify_time_units(cubelist)\n",
    "all_model_cube = cubelist.merge_cube()"
   ]
  },
  {
   "cell_type": "code",
   "execution_count": 55,
   "metadata": {},
   "outputs": [
    {
     "name": "stdout",
     "output_type": "stream",
     "text": [
      "air_temperature / (K)               (-- : 12; time: 1812; latitude: 31; longitude: 360)\n",
      "     Dimension coordinates:\n",
      "          time                          -         x               -              -\n",
      "          latitude                      -         -               x              -\n",
      "          longitude                     -         -               -              x\n",
      "     Auxiliary coordinates:\n",
      "          Model                         x         -               -              -\n",
      "     Attributes:\n",
      "          Conventions: CF-1.7\n",
      "          external_variables: areacella\n",
      "          frequency: mon\n",
      "          initialization_index: 1\n",
      "          mip_era: CMIP6\n",
      "          parent_activity_id: CMIP\n",
      "          parent_mip_era: CMIP6\n",
      "          physics_index: 1\n",
      "          product: model-output\n",
      "          realization_index: 1\n",
      "          realm: atmos\n",
      "          sub_experiment: none\n",
      "          sub_experiment_id: none\n",
      "          table_id: Amon\n",
      "          variable_id: tas\n",
      "     Cell methods:\n",
      "          mean: area, time\n"
     ]
    }
   ],
   "source": [
    "print(all_model_cube)"
   ]
  },
  {
   "cell_type": "code",
   "execution_count": 56,
   "metadata": {},
   "outputs": [],
   "source": [
    "# Average cubes over all models into multi model mean (mmm)\n",
    "mmm = all_model_cube.collapsed('Model', iris.analysis.MEAN)"
   ]
  },
  {
   "cell_type": "code",
   "execution_count": 57,
   "metadata": {},
   "outputs": [
    {
     "name": "stdout",
     "output_type": "stream",
     "text": [
      "air_temperature / (K)               (time: 1812; latitude: 31; longitude: 360)\n",
      "     Dimension coordinates:\n",
      "          time                           x               -              -\n",
      "          latitude                       -               x              -\n",
      "          longitude                      -               -              x\n",
      "     Scalar coordinates:\n",
      "          Model: ACCESS-CM2|ACCESS-ESM1-5|CNRM-ESM2-1|CanESM5|EC-Earth3|EC-Earth3-Veg|H...\n",
      "     Attributes:\n",
      "          Conventions: CF-1.7\n",
      "          external_variables: areacella\n",
      "          frequency: mon\n",
      "          initialization_index: 1\n",
      "          mip_era: CMIP6\n",
      "          parent_activity_id: CMIP\n",
      "          parent_mip_era: CMIP6\n",
      "          physics_index: 1\n",
      "          product: model-output\n",
      "          realization_index: 1\n",
      "          realm: atmos\n",
      "          sub_experiment: none\n",
      "          sub_experiment_id: none\n",
      "          table_id: Amon\n",
      "          variable_id: tas\n",
      "     Cell methods:\n",
      "          mean: area, time\n",
      "          mean: Model\n"
     ]
    }
   ],
   "source": [
    "print(mmm)"
   ]
  },
  {
   "cell_type": "code",
   "execution_count": null,
   "metadata": {},
   "outputs": [],
   "source": []
  },
  {
   "cell_type": "code",
   "execution_count": 58,
   "metadata": {},
   "outputs": [],
   "source": [
    "iris.save(mmm,r'C:\\Users\\Asus\\Desktop\\Masters Project\\Data\\tas_24_mar\\Regridded tas combined\\Modelmean_Combined.nc')"
   ]
  },
  {
   "cell_type": "code",
   "execution_count": null,
   "metadata": {},
   "outputs": [],
   "source": []
  }
 ],
 "metadata": {
  "kernelspec": {
   "display_name": "Python 3",
   "language": "python",
   "name": "python3"
  },
  "language_info": {
   "codemirror_mode": {
    "name": "ipython",
    "version": 3
   },
   "file_extension": ".py",
   "mimetype": "text/x-python",
   "name": "python",
   "nbconvert_exporter": "python",
   "pygments_lexer": "ipython3",
   "version": "3.7.4"
  }
 },
 "nbformat": 4,
 "nbformat_minor": 2
}
